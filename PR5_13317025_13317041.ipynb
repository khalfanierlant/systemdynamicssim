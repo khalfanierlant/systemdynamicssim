{
 "cells": [
  {
   "cell_type": "markdown",
   "metadata": {},
   "source": [
    "<h1 align=\"center\"> TUGAS BESAR TF3101 - DINAMIKA SISTEM DAN SIMULASI </h1>\n",
    "<h2 align=\"center\"> Sistem Elektrik, Elektromekanik, dan Termofluidik</h2>"
   ]
  },
  {
   "cell_type": "markdown",
   "metadata": {},
   "source": [
    "<h3>Nama Anggota:</h3>\n",
    "<body>\n",
    "    <ul>\n",
    "        <li>Erlant Muhammad Khalfani (13317025)</li>\n",
    "        <li>Bernardus Rendy (13317041)</li>\n",
    "    </ul>\n",
    "</body>"
   ]
  },
  {
   "cell_type": "markdown",
   "metadata": {},
   "source": [
    "## 1. Pemodelan Sistem Elektrik##"
   ]
  },
  {
   "cell_type": "markdown",
   "metadata": {},
   "source": [
    "Untuk pemodelan sistem elektrik, dipilih rangkaian RLC seri dengan sebuah sumber tegangan seperti yang tertera pada gambar di bawah ini."
   ]
  },
  {
   "cell_type": "markdown",
   "metadata": {},
   "source": [
    "<img src=\"./ELEKTRIK_TUBES_3.png\" style=\"width:50%\" align=\"middle\">"
   ]
  },
  {
   "cell_type": "markdown",
   "metadata": {},
   "source": [
    "### Deskripsi Sistem\n",
    "\n",
    "1. Input <br>\n",
    "Sistem ini memiliki input sumber tegangan $v_i$, yang merupakan fungsi waktu $v_i(t)$. <br>\n",
    "2. Output <br>\n",
    "Sistem ini memiliki *output* arus $i_2$, yaitu arus yang mengalir pada *mesh* II. Tegangan $v_{L1}$ dan $v_{R2}$ juga dapat berfungsi sebagai *output*. Pada program ini, *output* yang akan di-*plot* hanya $v_{R2}$ dan $v_{L1}$. Nilai $i_2$ berbanding lurus terhadap nilai $v_{R2}$, sehingga bentuk grafik $i_2$ akan menyerupai bentuk grafik $v_{R2}$\n",
    "3. Parameter <br>\n",
    "Sistem ini memiliki parameter-parameter $R_1$, $R_2$, $L_1$, dan $C_1$. Hambatan-hambatan $R_1$ dan $R_2$ adalah parameter *resistance*. Induktor $L_1$ adalah parameter *inertance*. Kapasitor $C_1$ adalah parameter *capacitance*."
   ]
  },
  {
   "cell_type": "markdown",
   "metadata": {},
   "source": [
    "### Asumsi\n",
    "1. Arus setiap *mesh* pada keadaan awal adalah nol ($i_1(0) = i_2(0) = 0$).\n",
    "2. Turunan arus terhadap waktu pada setiap *mesh* adalah nol ($\\frac{di_1(0)}{dt}=\\frac{di_2(0)}{dt}=0$)"
   ]
  },
  {
   "cell_type": "markdown",
   "metadata": {},
   "source": [
    "### Pemodelan dengan *Bond Graph*\n",
    "\n",
    "Dari sistem rangkaian listrik di atas, akan didapatkan *bond graph* sebagai berikut.\n",
    "<img src=\"./BG_ELEKTRIK.png\" style=\"width:50%\" align=\"middle\">\n",
    "<br>\n",
    "Pada gambar di atas, terlihat bahwa setiap *junction* memenuhi aturan kausalitas. Ini menandakan bahwa rangkaian di atas bersifat *causal*. Dari *bond graph* di atas, dapat diturunkan *Ordinary Differential Equation* (ODE) seperti hasil penerapan *Kirchhoff's Voltage Law* (KVL) pada setiap *mesh*. Dalam pemodelan *bond graph* variabel-variabel dibedakan menjadi variabel *effort* dan *flow*. Sistem di atas merupakan sistem elektrik, sehingga memiliki variabel *effort* berupa tegangan ($v$) dan *flow* berupa arus ($i$)."
   ]
  },
  {
   "cell_type": "markdown",
   "metadata": {},
   "source": [
    "### Persamaan Matematis - ODE\n",
    "Dilakukan analisis besaran *effort* pada *1-junction* sebelah kiri. Ini akan menghasilkan:\n",
    "$$\n",
    "v_i = v_{R1} + v_{C1}\n",
    "$$\n",
    "<br>\n",
    "Hasil ini sama seperti hasil dari KVL pada *mesh* I. Nilai $v_{R1}$ dan $v_{C1}$ diberikan oleh rumus-rumus:\n",
    "$$\n",
    "v_{R1} = R_1i_1\n",
    "$$\n",
    "<br>\n",
    "$$\n",
    "v_{C1} = \\frac{1}{C_1}\\int (i_1 - i_2)dt\n",
    "$$\n",
    "sehingga hasil KVL pada *mesh* I menjadi:\n",
    "$$\n",
    "v_i = R_1i_1 + \\frac{1}{C_1}\\int (i_1 - i_2)dt\n",
    "$$"
   ]
  },
  {
   "cell_type": "markdown",
   "metadata": {},
   "source": [
    "Kemudian, analisis juga dilakukan pada *1-junction* sebelah kanan, yang akan menghasilkan:\n",
    "$$\n",
    "v_{C1} = v_{R2} + v_{L1}\n",
    "$$\n",
    "<br>\n",
    "Ini juga sama seperti hasil KVL pada *mesh* II. Nilai $v_{R2}$ dan $v_{L1}$ diberikan oleh rumus-rumus:\n",
    "$$\n",
    "v_{R2} = R_2i_2\n",
    "$$\n",
    "<br>\n",
    "$$\n",
    "v_{L1} = L_1\\frac{di_2}{dt}\n",
    "$$\n",
    "sehingga hasil KVL pada *mesh* II menjadi:\n",
    "$$\n",
    "\\frac{1}{C_1}\\int(i_1-i_2)dt = R_2i_2 + L_1\\frac{di_2}{dt}\n",
    "$$\n",
    "atau\n",
    "$$\n",
    "0 = L_1\\frac{di_2}{dt} + R_2i_2 + \\frac{1}{C_1}\\int(i_2-i_1)dt\n",
    "$$"
   ]
  },
  {
   "cell_type": "markdown",
   "metadata": {},
   "source": [
    "### Persamaan Matematis - *Transfer Function*\n",
    "Setelah didapatkan ODE hasil dari *bond graph*, dapat dilakukan *Laplace Transform* untuk mendapatkan fungsi transfer sistem. *Laplace Transform* pada persamaan hasil KVL *mesh* I menghasilkan:\n",
    "$$\n",
    "(R_1 + \\frac{1}{C_1s})I_1 + (-\\frac{1}{C_1s})I_2 = V_i\n",
    "$$\n",
    "<br>\n",
    "dan pada persamaan hasil *mesh* II, akan didapatkan:\n",
    "$$\n",
    "(-\\frac{1}{C_1s})I_1 + (L_1s + R_2 + \\frac{1}{C_1s})I_2 = 0\n",
    "$$\n",
    "<br>\n",
    "Kedua persamaan itu dieliminasi, sehingga didapatkan fungsi transfer antara $I_2$ dengan $V_i$\n",
    "$$\n",
    "\\frac{I_2(s)}{V_i(s)} = \\frac{1}{R_1C_1L_1s^2 + (R_1R_2C_1 + L_1)s + R_1 + R_2}\n",
    "$$\n",
    "<br>\n",
    "Dari hasil *Laplace Transform* persamaan pada *mesh* II, didapatkan nilai $V_{L1}$ dari rumus\n",
    "$$\n",
    "V_{L1} = L_1sI_2\n",
    "$$\n",
    "<br>\n",
    "sehingga didapatkan fungsi transfer antara $V_{L1}$ dengan $V_i$\n",
    "$$\n",
    "\\frac{V_{L1}(s)}{V_i(s)} = \\frac{L_1s}{R_1C_1L_1s^2 + (R_1R_2C_1 + L_1)s + R_1 + R_2}\n",
    "$$\n",
    "Sementara fungsi transfer antara $V_{R2}$ dan $V_i$ adalah\n",
    "$$\n",
    "\\frac{V_{R2}(s)}{V_i(s)} = \\frac{R_2}{R_1C_1L_1s^2 + (R_1R_2C_1 + L_1)s + R_1 + R_2}\n",
    "$$"
   ]
  },
  {
   "cell_type": "code",
   "execution_count": 1,
   "metadata": {},
   "outputs": [],
   "source": [
    "#IMPORTS\n",
    "from ipywidgets import interact, interactive, fixed, interact_manual , HBox, VBox, Label, Layout\n",
    "import ipywidgets as widgets\n",
    "import numpy as np\n",
    "import matplotlib.pyplot as plt\n",
    "from scipy import signal"
   ]
  },
  {
   "cell_type": "code",
   "execution_count": 2,
   "metadata": {},
   "outputs": [],
   "source": [
    "#DEFINISI SLIDER-SLIDER PARAMETER\n",
    "#Slider R1\n",
    "R1_slider = widgets.FloatSlider(\n",
    "    value=1.,\n",
    "    min=1.,\n",
    "    max=1000.,\n",
    "    step=1.,\n",
    "    description='$R_1 (\\Omega)$',\n",
    "    readout_format='.1f',\n",
    ")\n",
    "#Slider R2\n",
    "R2_slider = widgets.FloatSlider(\n",
    "    value=1.,\n",
    "    min=1.,\n",
    "    max=1000.,\n",
    "    step=1.,\n",
    "    description='$R_2 (\\Omega)$',\n",
    "    readout_format='.1f',\n",
    ")\n",
    "#Slider C1\n",
    "C1_slider = widgets.IntSlider(\n",
    "    value=1,\n",
    "    min=10,\n",
    "    max=1000,\n",
    "    step=1,\n",
    "    description='$C_1 (\\mu F)$',\n",
    ")\n",
    "#Slider L1\n",
    "L1_slider = widgets.FloatSlider(\n",
    "    value=0.1,\n",
    "    min=1.,\n",
    "    max=1000.,\n",
    "    step=0.1,\n",
    "    description='$L_1 (mH)$',\n",
    "    readout_format='.1f',\n",
    ")"
   ]
  },
  {
   "cell_type": "code",
   "execution_count": 3,
   "metadata": {},
   "outputs": [],
   "source": [
    "#DEKLARASI SELECTOR INPUT\n",
    "#Slider selector input\n",
    "vi_select = signal_select = widgets.Dropdown(\n",
    "    options=[('Step', 0), ('Impulse', 1)],\n",
    "    description='Tipe Sinyal:',\n",
    ")\n",
    "#DEKLARASI SELECTOR OUTPUT\n",
    "#Output Selector\n",
    "vo_select = widgets.ToggleButtons(\n",
    "    options=['v_R2', 'v_L1'],\n",
    "    description='Output:',\n",
    ")"
   ]
  },
  {
   "cell_type": "code",
   "execution_count": 4,
   "metadata": {},
   "outputs": [],
   "source": [
    "#DEKLARASI TAMBAHAN UNTUK INTERFACE\n",
    "#Color button\n",
    "color_select1 = widgets.ToggleButtons(\n",
    "    options=['blue', 'red', 'green', 'black'],\n",
    "    description='Color:',\n",
    ")"
   ]
  },
  {
   "cell_type": "code",
   "execution_count": 5,
   "metadata": {},
   "outputs": [],
   "source": [
    "#PENENTUAN NILAI-NILAI PARAMETER\n",
    "R1 = R1_slider.value\n",
    "R2 = R2_slider.value\n",
    "C1 = C1_slider.value\n",
    "L1 = L1_slider.value\n",
    "\n",
    "#PENENTUAN NILAI DAN BENTUK INPUT\n",
    "vform = vi_select.value\n",
    "#PENENTUAN OUTPUT\n",
    "vo = vo_select\n",
    "\n",
    "#PENENTUAN PADA INTERFACE\n",
    "color = color_select1.value"
   ]
  },
  {
   "cell_type": "code",
   "execution_count": 6,
   "metadata": {},
   "outputs": [],
   "source": [
    "#Plot v_L1 menggunakan transfer function\n",
    "def plot_electric (vo, R1, R2, C1, L1, vform, color):\n",
    "    #Menyesuaikan nilai parameter dengan satuan\n",
    "    R1 = R1\n",
    "    R2 = R2\n",
    "    C1 = C1*(10**-6)\n",
    "    L1 = L1*(10**-3)\n",
    "    \n",
    "    f, ax = plt.subplots(1, 1, figsize=(8, 6))\n",
    "    num1 = [R2]\n",
    "    num2 = [L1, 0]\n",
    "    den = [R1*C1*L1, R1*R2*C1+L1, R1+R2]\n",
    "    if vo=='v_R2':\n",
    "        sys_vr =signal.TransferFunction(num1, den)\n",
    "        step_vr = signal.step(sys_vr)\n",
    "        impl_vr = signal.impulse(sys_vr)\n",
    "        if vform == 0:\n",
    "            ax.plot(step_vr[0], step_vr[1], color=color, label='Respon Step')\n",
    "        elif vform == 1:\n",
    "            ax.plot(impl_vr[0], impl_vr[1], color=color, label='Respon Impuls')\n",
    "        ax.grid()\n",
    "        ax.legend()\n",
    "    elif vo=='v_L1':\n",
    "        sys_vl = signal.TransferFunction(num2, den)\n",
    "        step_vl = signal.step(sys_vl)\n",
    "        impl_vl = signal.impulse(sys_vl)\n",
    "        #Plot respon\n",
    "        if vform == 0:\n",
    "            ax.plot(step_vl[0], step_vl[1], color=color, label='Respon Step')\n",
    "        elif vform == 1:\n",
    "            ax.plot(impl_vl[0], impl_vl[1], color=color, label='Respon Impuls')\n",
    "        ax.grid()\n",
    "        ax.legend()"
   ]
  },
  {
   "cell_type": "code",
   "execution_count": 7,
   "metadata": {},
   "outputs": [],
   "source": [
    "ui_el = widgets.VBox([vo_select, R1_slider, R2_slider, C1_slider, L1_slider, vi_select, color_select1])\n",
    "out_el = widgets.interactive_output(plot_electric, {'vo':vo_select,'R1':R1_slider,'R2':R2_slider,'C1':C1_slider,'L1':L1_slider,'vform':vi_select,'color':color_select1})\n",
    "int_el = widgets.HBox([ui_el, out_el])"
   ]
  },
  {
   "cell_type": "code",
   "execution_count": 8,
   "metadata": {
    "scrolled": true
   },
   "outputs": [
    {
     "data": {
      "application/vnd.jupyter.widget-view+json": {
       "model_id": "bba7dcc9301a42d9b76d8a2e45d9aa22",
       "version_major": 2,
       "version_minor": 0
      },
      "text/plain": [
       "HBox(children=(VBox(children=(ToggleButtons(description='Output:', options=('v_R2', 'v_L1'), value='v_R2'), Fl…"
      ]
     },
     "metadata": {},
     "output_type": "display_data"
    }
   ],
   "source": [
    "display(int_el)"
   ]
  },
  {
   "cell_type": "markdown",
   "metadata": {},
   "source": [
    "### Analisis###"
   ]
  },
  {
   "cell_type": "markdown",
   "metadata": {},
   "source": [
    "<h4>a. Respon Step </h4>"
   ]
  },
  {
   "cell_type": "markdown",
   "metadata": {},
   "source": [
    "Dari hasil simulasi, didapatkan pengaruh perubahan-perubahan nilai parameter pada *output* sistem setelah diberikan *input* berupa sinyal *step*, di antaranya:\n",
    "1. Kenaikan nilai $R_1$ akan menurunkan *steady-state gain* ($K$) sistem. Ini terlihat dari turunnya nilai *output* $v_{R2}$ pada keadaan *steady-state* dan turunnya nilai *maximum overshoot* ($M_p$) pada *output* $v_{L1}$. Perubahan nilai $R_1$ juga berbanding terbalik dengan perubahan koefisien redaman $\\xi$, terlihat dari semakin jelas terlihatnya osilasi seiring dengan kenaikan nilai $R_1$. Perubahan nilai $R_1$ juga sebanding dengan perubahan nilai *settling time* ($t_s$). Ini terlihat dengan bertambahnya waktu sistem untuk mencapai nilai dalam rentang 2-5% dari nilai keadaan *steady-state*. \n",
    "2. Kenaikan nilai $R_2$ akan meningkatkan *steady-state gain* ($K$) sistem dengan *output* $v_{R2}$ tetapi menurunkan *steady-state gain* ($K$) *output* $v_{L1}$. Selain itu, dapat terlihat juga bahwa perubahan nilai $R_2$ berbanding terbalik dengan nilai *settling time* ($t_s$); Saat nilai $R_2$ naik, sistem mencapai kondisi *steady-state* dalam waktu yang lebih singkat. Kenaikan nilai $R_2$ juga menyebabkan penurunan nilai *maximum overshoot* ($M_p$).\n",
    "3. Perubahan nilai $C_1$ sebanding dengan perubahan nilai *settling time*, seperti yang dapat terlihat dengan bertambahnya waktu yang diperlukan sistem untuk mendekati keadaan *steady-state* seiring dengan kenaikan nilai $C_1$. Selain itu nilai $C_1$ juga berbanding terbalik dengan nilai *maximum overshoot*, ini dapat dilihat dari turunnya nilai *maximum overshoot* ketika nilai $C_1$ dinaikan. Pada saat nilai $C_1$, naik, juga terlihat kenaikan nilai *delay time* ($t_d$), *rise time* ($t_r$), dan *peak time* ($t_p$).\n",
    "4. Kenaikan nilai $L_1$ mengakibatkan berkurangnya nilai frekuensi osilasi, serta meningkatkan *settling time* sistem. Perubahan nilai $L_1$ ini juga sebanding dengan *steady-state gain* sistem untuk *output* $v_{L1}$."
   ]
  },
  {
   "cell_type": "markdown",
   "metadata": {},
   "source": [
    "<h4>b. Respon Impuls </h4>"
   ]
  },
  {
   "cell_type": "markdown",
   "metadata": {},
   "source": [
    "Dari hasil simulasi, didapatkan pengaruh perubahan-perubahan nilai parameter pada *output* sistem setelah diberikan *input* berupa sinyal *impulse*, di antaranya:\n",
    "1. Perubahan nilai $R_1$ berbanding terbalik dengan nilai *peak response*. Kenaikan nilai $R_1$ juga menaikkan nilai *settling time* ($t_s$).\n",
    "2. Kenaikan nilai $R_2$ memengaruhi nilai *peak response* $v_{R2}$, tetapi tidak berpengaruh pada *peak response* $v_{L1}$. Naiknya nilai $R_2$ juga menurunkan nilai *settling time* ($t_s$), yang terlihat dari semakin cepatnya sistem mencapai kondisi *steady-state*.\n",
    "3. Kenaikan nilai $C_1$ menyebabkan turunnya nilai *peak response*. Kenaikan nilai $C_1$ juga menyebabkan kenaikan nilai *settling time* ($t_s$), yang dapat dilihat dengan bertambahnya waktu yang diperlukan sistem untuk mendekati keadaan *steady-state*.\n",
    "4. Kenaikan nilai $L_1$ menyebabkan turunnya nilai *peak response*. Kenaikan nilai $L_1$ juga menurunkan nilai *settling time* ($t_s$), yang dapat dilihat dari bertambahnya waktu yang diperlukan sistem untuk mendekati keadaan *steady-state*."
   ]
  },
  {
   "cell_type": "markdown",
   "metadata": {},
   "source": [
    "## 2. Pemodelan Sistem Elektromekanik\n",
    "### DC Brushed Motor Torsi Besar dengan Motor Driver\n",
    "\n",
    "Sistem yang akan dimodelkan berupa motor driver high current BTS7960 seperti gambar pertama, dihubungkan dengan motor torsi besar dengan brush pada gambar kedua.\n",
    "<div>\n",
    "<img src=\"./1.jpg\" style=\"width:20%\" align=\"middle\">\n",
    "</div>\n",
    "<div>\n",
    "<img src=\"./2.jpg\" style=\"width:20%\" align=\"middle\">\n",
    "</div>\n",
    "<p style=\"text-align:center\"><b>Sumber gambar: KRTMI URO ITB</b></p>"
   ]
  },
  {
   "cell_type": "markdown",
   "metadata": {},
   "source": [
    "### Deskripsi Sistem\n",
    "\n",
    "1. Input <br>\n",
    "Sistem ini memiliki input sinyal $V_{in}$, yang merupakan fungsi waktu $V_{in}(t)$. Tegangan $v_i(t)$ ini dapat berbentuk fungsi step, impuls, atau pulse width modulation dengan duty cycle tertentu (luaran mikrokontroller umum). <br>\n",
    "2. Output <br>\n",
    "Sistem ini memiliki *output* posisi sudut $\\theta$, kecepatan sudut motor $\\omega$, percepatan sudut motor $\\alpha$, dan torsi $T$. Output ditentukan sesuai kebutuhan untuk manuver robot. Terlihat variable output bergantung pada $\\theta$, $\\frac {d\\theta}{dt}$, dan $\\frac{d^2\\theta}{dt}$, sehingga dicari beberapa persamaan diferensial sesuai tiap output.\n",
    "3. Parameter <br>\n",
    "Sistem memiliki parameter $J,K_f,K_a,L,R,K_{emf},K_{md}$ yang diturunkan dari karakteristik subsistem mekanik dan elektrik sebagai berikut."
   ]
  },
  {
   "cell_type": "markdown",
   "metadata": {},
   "source": [
    "#### Subsistem Motor Driver\n",
    "Pertama ditinjau struktur sistem dari motor driver. Motor driver yang digunakan adalah tipe MOSFET BTS7960 sehingga memiliki karakteristik dinamik yang meningkat hampir dengan instant. MOSFET dirangkai sedemikian rupa sehingga dapat digunakan untuk kontrol maju/mundur motor. Diasumsikan rise-time MOSFET cukup cepat relatif terhadap sinyal dan motor driver cukup linear, maka motor driver dapat dimodelkan sebagai sistem orde 0 dengan gain sebesar $ K_{md} $. \n",
    "<img src=\"./4.png\" style=\"width:30%\" align=\"middle\">\n",
    "<p style=\"text-align:center\"><b>Sumber gambar: Datasheet BTS7960</b></p>\n",
    "<img src=\"./5.png\" style=\"width:30%\" align=\"middle\">\n",
    "<p style=\"text-align:center\"><b>Model Orde 0 Motor Driver</b></p>\n",
    "Maka persamaan dinamik output terhadap input dalam motor driver adalah <br>\n",
    "$ V_m=K_{md}V_{in} $<br>\n",
    "Sama seperti hubungan input output pada karakteristik statik."
   ]
  },
  {
   "cell_type": "markdown",
   "metadata": {},
   "source": [
    "#### Subsistem Motor\n",
    "Lalu ditinjau struktur sistem dari motor torsi besar dengan inertia beban yang tidak dapat diabaikan.\n",
    "<img src=\"./3.png\" style=\"width:30%\" align=\"middle\">\n",
    "<p style=\"text-align:center\"><b>Sumber gambar: https://www.researchgate.net/figure/The-structure-of-a-DC-motor_fig2_260272509</b></p>\n",
    "<br>\n",
    "Maka dapat diturunkan persamaan diferensial untuk sistem mekanik.\n",
    "<br>\n",
    "<img src=\"./6.png\" style=\"width:30%\">\n",
    "<img src=\"./7.png\" style=\"width:30%\">\n",
    "<p style=\"text-align:center\"><b>Sumber gambar: Chapman - Electric Machinery Fundamentals 4th Edition</b></p>\n",
    "$$ \n",
    "T=K_a i_a \n",
    "$$ \n",
    "dengan $T$ adalah torsi dan $K_a$ adalah konstanta proporsionalitas torsi (hasil perkalian K dengan flux) untuk arus armature $i_a$.\n",
    "$$\n",
    "V_{emf}=K_{emf} \\omega\n",
    "$$\n",
    "dengan $V_{emf}$ adalah tegangan penyebab electromotive force dan $K_{emf}$ konstanta proporsionalitas tegangan emf (hasil perkalian K dengan flux pada kondisi ideal tanpa voltage drop) untuk kecepatan putar sudut dari motor.\n",
    "<br>\n",
    "Namun, akibat terbentuknya torsi adalah berputarnya beban dengan kecepatan sudut sebesar $\\omega$ dan percepatan sudut sebesar $\\alpha$. Faktor proporsionalitas terhadap percepatan sudut adalah $J$ (Inersia Putar) dan terhadap kecepatan sudut sebesar $ K_f $ (Konstanta Redam Putar) Sehingga dapat diturunkan persamaan diferensial sebagai berikut (Persamaan 1):\n",
    "<br>\n",
    "$$ \n",
    "J\\alpha + K_f\\omega = T \n",
    "$$\n",
    "$$\n",
    "J\\frac {d^2\\theta}{dt} + K_f\\frac {d\\theta}{dt} = K_a i_a \n",
    "$$\n",
    "$$ \n",
    "J\\frac {d\\omega}{dt} + K_f \\omega = K_a i_a \n",
    "$$\n",
    "Kemudian diturunkan persamaan diferensial untuk sistem elektrik yang terdapat pada motor sehingga $i_a$ dapat disubstitusi dengan input $V_{in}$ (Persamaan 2):\n",
    "$$ \n",
    "L \\frac{d{i_a}}{dt} + R i_a + K_{emf} \\omega = V_m \n",
    "$$\n",
    "$$\n",
    "V_m = K_{md} V_{in}\n",
    "$$\n",
    "$$ \n",
    "L \\frac{d{i_a}}{dt} + R i_a + K_{emf} \\omega = K_{md} V_{in} \n",
    "$$"
   ]
  },
  {
   "cell_type": "markdown",
   "metadata": {},
   "source": [
    "### Pemodelan dengan Fungsi Transfer\n",
    "Dengan persamaan subsistem tersebut, dapat dilakukan pemodelan fungsi transfer sistem dengan transformasi ke domain laplace (s). Dilakukan penyelesaian menggunakan fungsi transfer dalam domain laplace, pertama dilakukan transfer ke domain laplace dengan asumsi\n",
    "<br>\n",
    "$ i_a (0) = 0 $\n",
    "<br>\n",
    "$ \\frac {di_a}{dt} = 0 $\n",
    "<br>\n",
    "$ \\theta (0) = 0 $\n",
    "<br>\n",
    "$ \\omega (0) = 0 $\n",
    "<br>\n",
    "$ \\alpha (0) = 0 $\n",
    "<br>\n",
    "Tidak diasumsikan terdapat voltage drop karena telah di akumulasi di $K_{emf}$, namun diasumsikan voltage drop berbanding lurus terhadap $\\omega$.\n",
    "<br>\n",
    "Persamaan 1 menjadi:\n",
    "$$\n",
    "J s \\omega + K_f \\omega = K_a i_a\n",
    "$$\n",
    "Persamaan 2 menjadi:\n",
    "$$\n",
    "L s i_a + R i_a + K_{emf} \\omega = K_{md} V_{in}\n",
    "$$\n",
    "$$\n",
    "i_a=\\frac {K_{md} V_{in}-K_{emf} \\omega}{L s + R}\n",
    "$$\n",
    "Sehingga terbentuk fungsi transfer sistem keseluruhan dalam $\\omega$ adalah:\n",
    "$$\n",
    "J s \\omega + K_f \\omega = \\frac {K_a(K_{md} V_{in} - K_{emf} \\omega)}{L s + R}\n",
    "$$\n",
    "Fungsi transfer untuk $\\omega$ adalah:\n",
    "$$\n",
    "\\omega = \\frac {K_a(K_{md} V_{in}-K_{emf} \\omega)}{(L s + R)(J s + K_f)}\n",
    "$$\n",
    "$$\n",
    "\\omega = \\frac {K_a K_{md} V_{in}}{(L s + R)(J s + K_f)(1  + \\frac {K_a K_{emf}}{(L s + R)(J s + K_f)})}\n",
    "$$\n",
    "$$\n",
    "\\frac {\\omega (s)}{V_{in}(s)} = \\frac {K_a K_{md}}{(L s + R)(J s + K_f)+ K_a K_{emf}}\n",
    "$$\n",
    "Dapat diturunkan fungsi transfer untuk theta dengan mengubah variable pada persamaan 1:\n",
    "$$\n",
    "J s^2 \\theta + K_f s \\theta = K_a i_a\n",
    "$$\n",
    "Persamaan 2:\n",
    "$$\n",
    "L s i_a + R i_a + K_{emf} s \\theta = K_{md} V_{in}\n",
    "$$\n",
    "$$\n",
    "i_a=\\frac {K_{md} V_{in}-K_{emf} s \\theta}{L s + R}\n",
    "$$\n",
    "Sehingga terbentuk fungsi transfer sistem keseluruhan dalam $\\theta$ adalah:\n",
    "$$\n",
    "J s^2 \\theta + K_f s \\theta = \\frac {K_a(K_{md} V_{in}-K_{emf} s \\theta)}{L s + R}\n",
    "$$\n",
    "Fungsi transfer untuk $\\theta$ adalah:\n",
    "$$\n",
    "\\theta = \\frac {K_a(K_{md} V_{in}-K_{emf} s \\theta)}{(L s + R)(J s^2 + K_f s )}\n",
    "$$\n",
    "$$\n",
    "\\theta + \\frac {K_a K_{emf} s \\theta}{(L s + R)(J s^2 + K_f s )}= \\frac {K_a K_{md} V_{in}}{(L s + R)(J s^2 + K_f s )}\n",
    "$$\n",
    "$$\n",
    "\\theta= \\frac {K_a K_{md} V_{in}}{(L s + R)(J s^2 + K_f s )(1 + \\frac {K_a K_{emf} s}{(L s + R)(J s^2 + K_f s )})}\n",
    "$$\n",
    "$$\n",
    "\\frac {\\theta (s)}{V_{in}(s)}= \\frac {K_a K_{md}}{(L s + R)(J s^2 + K_f s )+ K_a K_{emf} s}\n",
    "$$\n",
    "Terlihat bahwa fungsi transfer untuk $\\omega$ dan $\\theta$ hanya berbeda sebesar $ \\frac {1}{s} $ sesuai dengan hubungan\n",
    "$$\n",
    "\\omega = s \\theta\n",
    "$$\n",
    "Sehingga fungsi transfer untuk $\\alpha$ akan memenuhi\n",
    "$$\n",
    "\\alpha = s\\omega = s^2 \\theta\n",
    "$$\n",
    "Sehingga fungsi transfer untuk $\\alpha$ adalah:\n",
    "$$\n",
    "\\frac {\\alpha (s)}{V_{in}(s)} = \\frac {K_a K_{md} s}{(L s + R)(J s + K_f)+ K_a K_{emf}}\n",
    "$$"
   ]
  },
  {
   "cell_type": "markdown",
   "metadata": {},
   "source": [
    "### Output\n",
    "Dari fungsi transfer, diformulasikan persamaan output posisi sudut $\\theta$, kecepatan sudut motor $\\omega$, percepatan sudut $\\alpha$, dan torsi $T$ dalam fungsi waktu (t).\n",
    "$$\n",
    "\\theta (t) = \\mathscr {L^{-1}} \\{\\frac {K_a K_{md} V_{in}(s)}{(L s + R)(J s^2 + K_f s )+ K_a K_{emf} s}\\}\n",
    "$$\n",
    "<br>\n",
    "$$\n",
    "\\omega (t) = \\mathscr {L^{-1}} \\{\\frac {K_a K_{md} V_{in}(s)}{(L s + R)(J s + K_f)+ K_a K_{emf}}\\}\n",
    "$$\n",
    "<br>\n",
    "$$\n",
    "\\alpha (t)= \\mathscr {L^{-1}} \\{\\frac {K_a K_{md} Vin_{in}(s) s}{(L s + R)(J s + K_f)+ K_a K_{emf}}\\}\n",
    "$$\n",
    "<br>\n",
    "$$\n",
    "T = \\frac {K_a(K_{md} V_{in}-K_{emf} \\omega)}{L s + R} \n",
    "$$"
   ]
  },
  {
   "cell_type": "code",
   "execution_count": 9,
   "metadata": {},
   "outputs": [],
   "source": [
    "# Digunakan penyelesaian numerik untuk output\n",
    "import numpy as np\n",
    "from scipy.integrate import odeint\n",
    "import scipy.signal as sig\n",
    "import matplotlib.pyplot as plt\n",
    "from sympy.physics.mechanics import dynamicsymbols, SymbolicSystem\n",
    "from sympy import *\n",
    "import control as control"
   ]
  },
  {
   "cell_type": "code",
   "execution_count": 10,
   "metadata": {},
   "outputs": [],
   "source": [
    "vin = symbols ('V_{in}') #import symbol input"
   ]
  },
  {
   "cell_type": "code",
   "execution_count": 11,
   "metadata": {},
   "outputs": [],
   "source": [
    "omega, theta, alpha = dynamicsymbols('omega theta alpha') #import symbol output"
   ]
  },
  {
   "cell_type": "code",
   "execution_count": 12,
   "metadata": {},
   "outputs": [],
   "source": [
    "ka,kmd,l,r,j,kf,kemf,s,t = symbols ('K_a K_{md} L R J K_f K_{emf} s t')#import symbol parameter dan s"
   ]
  },
  {
   "cell_type": "code",
   "execution_count": 13,
   "metadata": {},
   "outputs": [
    {
     "data": {
      "text/latex": [
       "$\\displaystyle \\operatorname{Poly}{\\left( \\frac{1}{J L s^{3} + J R s^{2} + K_{a} K_{emf} s + K_{f} L s^{2} + K_{f} R s}K_{a}K_{md}, \\frac{1}{J L s^{3} + J R s^{2} + K_{a} K_{emf} s + K_{f} L s^{2} + K_{f} R s}, K_{a}, K_{md}, domain=\\mathbb{Z} \\right)}$"
      ],
      "text/plain": [
       "Poly((1/(J*L*s**3 + J*R*s**2 + K_a*K_{emf}*s + K_f*L*s**2 + K_f*R*s))*K_a*K_{md}, 1/(J*L*s**3 + J*R*s**2 + K_a*K_{emf}*s + K_f*L*s**2 + K_f*R*s), K_a, K_{md}, domain='ZZ')"
      ]
     },
     "execution_count": 13,
     "metadata": {},
     "output_type": "execute_result"
    }
   ],
   "source": [
    "thetaOverVin = (ka*kmd)/((l*s+r)*(j*s**2+kf*s)+ka*kemf*s) #persamaan fungsi transfer theta\n",
    "polyThetaOverVin = thetaOverVin.as_poly() #Penyederhanaan persamaan\n",
    "polyThetaOverVin"
   ]
  },
  {
   "cell_type": "code",
   "execution_count": 14,
   "metadata": {
    "scrolled": true
   },
   "outputs": [
    {
     "data": {
      "text/latex": [
       "$\\displaystyle \\operatorname{Poly}{\\left( \\frac{1}{J L s^{2} + J R s + K_{a} K_{emf} + K_{f} L s + K_{f} R}K_{a}K_{md}, \\frac{1}{J L s^{2} + J R s + K_{a} K_{emf} + K_{f} L s + K_{f} R}, K_{a}, K_{md}, domain=\\mathbb{Z} \\right)}$"
      ],
      "text/plain": [
       "Poly((1/(J*L*s**2 + J*R*s + K_a*K_{emf} + K_f*L*s + K_f*R))*K_a*K_{md}, 1/(J*L*s**2 + J*R*s + K_a*K_{emf} + K_f*L*s + K_f*R), K_a, K_{md}, domain='ZZ')"
      ]
     },
     "execution_count": 14,
     "metadata": {},
     "output_type": "execute_result"
    }
   ],
   "source": [
    "omegaOverVin = (ka*kmd)/((l*s+r)*(j*s+kf)+ka*kemf) #persamaan fungsi transfer omega\n",
    "polyOmegaOverVin = omegaOverVin.as_poly() #Penyederhanaan persamaan\n",
    "polyOmegaOverVin"
   ]
  },
  {
   "cell_type": "code",
   "execution_count": 15,
   "metadata": {
    "scrolled": true
   },
   "outputs": [
    {
     "data": {
      "text/latex": [
       "$\\displaystyle \\operatorname{Poly}{\\left( s\\frac{1}{J L s^{2} + J R s + K_{a} K_{emf} + K_{f} L s + K_{f} R}K_{a}K_{md}, s, \\frac{1}{J L s^{2} + J R s + K_{a} K_{emf} + K_{f} L s + K_{f} R}, K_{a}, K_{md}, domain=\\mathbb{Z} \\right)}$"
      ],
      "text/plain": [
       "Poly(s*(1/(J*L*s**2 + J*R*s + K_a*K_{emf} + K_f*L*s + K_f*R))*K_a*K_{md}, s, 1/(J*L*s**2 + J*R*s + K_a*K_{emf} + K_f*L*s + K_f*R), K_a, K_{md}, domain='ZZ')"
      ]
     },
     "execution_count": 15,
     "metadata": {},
     "output_type": "execute_result"
    }
   ],
   "source": [
    "alphaOverVin = (ka*kmd*s)/((l*s+r)*(j*s+kf)+ka*kemf)\n",
    "polyAlphaOverVin = alphaOverVin.as_poly() #Penyederhanaan persamaan\n",
    "polyAlphaOverVin"
   ]
  },
  {
   "cell_type": "code",
   "execution_count": 16,
   "metadata": {},
   "outputs": [
    {
     "data": {
      "text/latex": [
       "$\\displaystyle \\operatorname{Poly}{\\left( -\\frac{1}{J L^{2} s^{3} + 2 J L R s^{2} + J R^{2} s + K_{a} K_{emf} L s + K_{a} K_{emf} R + K_{f} L^{2} s^{2} + 2 K_{f} L R s + K_{f} R^{2}}K_{a}^{2}K_{emf}K_{md} + \\frac{1}{L s + R}K_{a}K_{md}, \\frac{1}{J L^{2} s^{3} + 2 J L R s^{2} + J R^{2} s + K_{a} K_{emf} L s + K_{a} K_{emf} R + K_{f} L^{2} s^{2} + 2 K_{f} L R s + K_{f} R^{2}}, \\frac{1}{L s + R}, K_{a}, K_{emf}, K_{md}, domain=\\mathbb{Z} \\right)}$"
      ],
      "text/plain": [
       "Poly(-(1/(J*L**2*s**3 + 2*J*L*R*s**2 + J*R**2*s + K_a*K_{emf}*L*s + K_a*K_{emf}*R + K_f*L**2*s**2 + 2*K_f*L*R*s + K_f*R**2))*K_a**2*K_{emf}*K_{md} + (1/(L*s + R))*K_a*K_{md}, 1/(J*L**2*s**3 + 2*J*L*R*s**2 + J*R**2*s + K_a*K_{emf}*L*s + K_a*K_{emf}*R + K_f*L**2*s**2 + 2*K_f*L*R*s + K_f*R**2), 1/(L*s + R), K_a, K_{emf}, K_{md}, domain='ZZ')"
      ]
     },
     "execution_count": 16,
     "metadata": {},
     "output_type": "execute_result"
    }
   ],
   "source": [
    "torqueOverVin= ka*(kmd-kemf*((ka*kmd)/((l*s+r)*(j*s+kf)+ka*kemf)))/(l*s+r) #Penyederhanaan persamaan torsi\n",
    "polyTorqueOverVin = torqueOverVin.as_poly()\n",
    "polyTorqueOverVin"
   ]
  },
  {
   "cell_type": "code",
   "execution_count": 17,
   "metadata": {},
   "outputs": [],
   "source": [
    "def plot_elektromekanik(Ka,Kmd,L,R,J,Kf,Kemf,VinType,tMax,dutyCycle,grid):\n",
    "    # Parameter diberi value dan model system dibentuk dalam transfer function yang dapat diolah python\n",
    "    Ka = Ka\n",
    "    Kmd = Kmd\n",
    "    L = L\n",
    "    R = R\n",
    "    J = J\n",
    "    Kf = Kf\n",
    "    Kemf = Kemf\n",
    "    # Pembuatan model transfer function\n",
    "    tf = control.tf\n",
    "    tf_Theta_Vin = tf([Ka*Kmd],[J*L,(J*R+Kf*L),(Ka*Kemf+Kf*R),0])\n",
    "    tf_Omega_Vin = tf([Ka*Kmd],[J*L,(J*R+Kf*L),(Ka*Kemf+Kf*R)])\n",
    "    tf_Alpha_Vin = tf([Ka*Kmd,0],[J*L,(J*R+Kf*L),(Ka*Kemf+Kf*R)])\n",
    "    tf_Torque_Vin = tf([Ka*Kmd],[L,R]) - tf([Kmd*Kemf*Ka**2],[J*L**2,(2*J*L*R+Kf*L**2),(J*R**2+Ka*Kemf*L+2*Kf*L*R),(Ka*Kemf*R+Kf*R**2)])\n",
    "    f, axs = plt.subplots(4, sharex=True, figsize=(10, 10))\n",
    "    # Fungsi mengatur rentang waktu analisis (harus memiliki kelipatan 1 ms)\n",
    "    def analysisTime(maxTime):\n",
    "        ts=np.linspace(0, maxTime, maxTime*100)\n",
    "        return ts\n",
    "    t=analysisTime(tMax)\n",
    "    if VinType== 2:\n",
    "        # Input pwm dalam 1 millisecond\n",
    "        def Pwm(dutyCycle,totalTime):\n",
    "            trepeat=np.linspace(0, 1, 100)\n",
    "            squareWave=(5*sig.square(2 * np.pi * trepeat, duty=dutyCycle))\n",
    "            finalInput=np.zeros(len(totalTime))\n",
    "            for i in range(len(squareWave)):\n",
    "                if squareWave[i]<0:\n",
    "                    squareWave[i]=0\n",
    "            for i in range(len(totalTime)):\n",
    "                finalInput[i]=squareWave[i%100]\n",
    "            return finalInput\n",
    "        pwm=Pwm(dutyCycle,t)\n",
    "        tPwmTheta, yPwmTheta, xPwmTheta = control.forced_response(tf_Theta_Vin, T=t, U=pwm, X0=0)\n",
    "        tPwmOmega, yPwmOmega, xPwmOmega = control.forced_response(tf_Omega_Vin, t, pwm, X0=0)\n",
    "        tPwmAlpha, yPwmAlpha, xPwmAlpha = control.forced_response(tf_Alpha_Vin, t, pwm, X0=0)\n",
    "        tPwmTorque, yPwmTorque, xPwmTorque = control.forced_response(tf_Torque_Vin, t, pwm, X0=0)\n",
    "        axs[0].plot(tPwmTheta, yPwmTheta, color = 'blue', label ='Theta')\n",
    "        axs[1].plot(tPwmOmega, yPwmOmega, color = 'red', label ='Omega')\n",
    "        axs[2].plot(tPwmAlpha, yPwmAlpha, color = 'black', label ='Alpha')\n",
    "        axs[3].plot(tPwmTorque, yPwmTorque, color = 'green', label ='Torque')\n",
    "        axs[0].title.set_text('Theta $rad$ (Input PWM)')\n",
    "        axs[1].title.set_text('Omega $(\\\\frac {rad}{ms})$ (Input PWM)')\n",
    "        axs[2].title.set_text('Alpha $(\\\\frac {rad}{ms^2})$ (Input PWM)')\n",
    "        axs[3].title.set_text('Torque $(Nm)$ (Input PWM)')\n",
    "    elif VinType== 0:\n",
    "        tStepTheta, yStepTheta = control.step_response(tf_Theta_Vin,T=t, X0=0)\n",
    "        tStepOmega, yStepOmega = control.step_response(tf_Omega_Vin,T=t, X0=0)\n",
    "        tStepAlpha, yStepAlpha = control.step_response(tf_Alpha_Vin,T=t, X0=0)\n",
    "        tStepTorque, yStepTorque = control.step_response(tf_Torque_Vin, T=t, X0=0)\n",
    "        axs[0].plot(tStepTheta, yStepTheta, color = 'blue', label ='Theta')\n",
    "        axs[1].plot(tStepOmega, yStepOmega, color = 'red', label ='Omega')\n",
    "        axs[2].plot(tStepAlpha, yStepAlpha, color = 'black', label ='Alpha')\n",
    "        axs[3].plot(tStepTorque, yStepTorque, color = 'green', label ='Torque')\n",
    "        axs[0].title.set_text('Theta $rad$ (Input Step)')\n",
    "        axs[1].title.set_text('Omega $(\\\\frac {rad}{ms})$ (Input Step)')\n",
    "        axs[2].title.set_text('Alpha $(\\\\frac {rad}{ms^2})$(Input Step)')\n",
    "        axs[3].title.set_text('Torque $(Nm)$ (Input Step)')\n",
    "    elif VinType== 1 :\n",
    "        tImpulseTheta, yImpulseTheta = control.impulse_response(tf_Theta_Vin,T=t, X0=0)\n",
    "        tImpulseOmega, yImpulseOmega = control.impulse_response(tf_Omega_Vin,T=t, X0=0)\n",
    "        tImpulseAlpha, yImpulseAlpha = control.impulse_response(tf_Alpha_Vin,T=t, X0=0)\n",
    "        tImpulseTorque, yImpulseTorque = control.impulse_response(tf_Torque_Vin, T=t, X0=0)\n",
    "        axs[0].plot(tImpulseTheta, yImpulseTheta, color = 'blue', label ='Theta')\n",
    "        axs[1].plot(tImpulseOmega, yImpulseOmega, color = 'red', label ='Omega')\n",
    "        axs[2].plot(tImpulseAlpha, yImpulseAlpha, color = 'black', label ='Alpha')\n",
    "        axs[3].plot(tImpulseTorque, yImpulseTorque, color = 'green', label ='Torque')\n",
    "        axs[0].title.set_text('Theta $rad$ (Input Impulse)')\n",
    "        axs[1].title.set_text('Omega $(\\\\frac {rad}{ms})$ (Input Impulse)')\n",
    "        axs[2].title.set_text('Alpha $(\\\\frac {rad}{ms^2})$ (Input Impulse)')\n",
    "        axs[3].title.set_text('Torque $(Nm)$ (Input Impulse)')\n",
    "    axs[0].legend()\n",
    "    axs[1].legend()\n",
    "    axs[2].legend()\n",
    "    axs[3].legend()\n",
    "    axs[0].grid(grid)\n",
    "    axs[1].grid(grid)\n",
    "    axs[2].grid(grid)\n",
    "    axs[3].grid(grid)"
   ]
  },
  {
   "cell_type": "code",
   "execution_count": 18,
   "metadata": {},
   "outputs": [],
   "source": [
    "#DEFINISI WIDGETS PARAMETER\n",
    "Ka_slider = widgets.FloatSlider(\n",
    "    value=0.1,\n",
    "    min=0.1,\n",
    "    max=200.0,\n",
    "    step=0.1,\n",
    "    description='$K_a (\\\\frac {Nm}{A})$',\n",
    "    layout=Layout(width='80%', height='50px'),\n",
    "    style={'description_width': '200px'},\n",
    ")\n",
    "Kmd_slider = widgets.FloatSlider(\n",
    "    value=0.1,\n",
    "    min=2,\n",
    "    max=100.0,\n",
    "    step=0.1,\n",
    "    description='$K_{md} (\\\\frac {V}{V})$',\n",
    "    layout=Layout(width='80%', height='50px'),\n",
    "    style={'description_width': '200px'},\n",
    ")\n",
    "L_slider = widgets.FloatSlider(\n",
    "    value=0.1,\n",
    "    min=0.1,\n",
    "    max=100.0,\n",
    "    step=0.1,\n",
    "    description='$L (mH)$',\n",
    "    layout=Layout(width='80%', height='50px'),\n",
    "    style={'description_width': '200px'},\n",
    ")\n",
    "R_slider = widgets.IntSlider(\n",
    "    value=1,\n",
    "    min=1,\n",
    "    max=1000,\n",
    "    step=1,\n",
    "    description='$R (\\Omega)$',\n",
    "    layout=Layout(width='80%', height='50px'),\n",
    "    style={'description_width': '200px'},\n",
    ")\n",
    "J_slider = widgets.FloatSlider(\n",
    "    value=0.1,\n",
    "    min=0.1,\n",
    "    max=100.0,\n",
    "    step=0.1,\n",
    "    description='$J (\\\\frac {Nm(ms)^2}{rad})$',\n",
    "    layout=Layout(width='80%', height='50px'),\n",
    "    style={'description_width': '200px'},\n",
    ")\n",
    "Kf_slider = widgets.FloatSlider(\n",
    "    value=0.1,\n",
    "    min=0.1,\n",
    "    max=100.0,\n",
    "    step=0.1,\n",
    "    description='$K_{f} (\\\\frac {Nm(ms)}{rad})$',\n",
    "    layout=Layout(width='80%', height='50px'),\n",
    "    style={'description_width': '200px'},\n",
    ")\n",
    "Kemf_slider = widgets.FloatSlider(\n",
    "    value=0.1,\n",
    "    min=0.1,\n",
    "    max=100.0,\n",
    "    step=0.1,\n",
    "    description='$K_{emf} (\\\\frac {V(ms)}{rad})$',\n",
    "    layout=Layout(width='80%', height='50px'),\n",
    "    style={'description_width': '200px'},\n",
    ")\n",
    "VinType_select = widgets.Dropdown(\n",
    "    options=[('Step', 0), ('Impulse', 1),('PWM',2)],\n",
    "    description='Tipe Sinyal Input:',\n",
    "    layout=Layout(width='80%', height='50px'),\n",
    "    style={'description_width': '200px'},\n",
    ")\n",
    "tMax_slider = widgets.IntSlider(\n",
    "    value=10,\n",
    "    min=1,\n",
    "    max=500,\n",
    "    step=1,\n",
    "    description='$t_{max} (ms)$',\n",
    "    layout=Layout(width='80%', height='50px'),\n",
    "    style={'description_width': '200px'},\n",
    ")\n",
    "dutyCycle_slider = widgets.FloatSlider(\n",
    "    value=0.5,\n",
    "    min=0,\n",
    "    max=1.0,\n",
    "    step=0.05,\n",
    "    description='$Duty Cycle (\\%)$',\n",
    "    layout=Layout(width='80%', height='50px'),\n",
    "    style={'description_width': '200px'},\n",
    ")\n",
    "grid_button = widgets.ToggleButton(\n",
    "    value=True,\n",
    "    description='Grid',\n",
    "    icon='check',\n",
    "    layout=Layout(width='20%', height='50px',margin='10px 10px 10px 350px'),\n",
    "    style={'description_width': '200px'},\n",
    ")\n",
    "ui_em = widgets.VBox([Ka_slider,Kmd_slider,L_slider,R_slider,J_slider,Kf_slider,Kemf_slider,VinType_select,tMax_slider,dutyCycle_slider,grid_button])\n",
    "out_em = widgets.interactive_output(plot_elektromekanik, {'Ka':Ka_slider,'Kmd':Kmd_slider,'L':L_slider,'R':R_slider,'J':J_slider,'Kf':Kf_slider,'Kemf':Kemf_slider,'VinType':VinType_select,'tMax':tMax_slider,'dutyCycle':dutyCycle_slider, 'grid':grid_button})"
   ]
  },
  {
   "cell_type": "code",
   "execution_count": 19,
   "metadata": {},
   "outputs": [
    {
     "data": {
      "application/vnd.jupyter.widget-view+json": {
       "model_id": "09aa44f989624adcb50a764a906909a6",
       "version_major": 2,
       "version_minor": 0
      },
      "text/plain": [
       "VBox(children=(FloatSlider(value=0.1, description='$K_a (\\\\frac {Nm}{A})$', layout=Layout(height='50px', width…"
      ]
     },
     "metadata": {},
     "output_type": "display_data"
    },
    {
     "data": {
      "application/vnd.jupyter.widget-view+json": {
       "model_id": "3d8aa5f993c545dbaa4d0330352862af",
       "version_major": 2,
       "version_minor": 0
      },
      "text/plain": [
       "Output()"
      ]
     },
     "metadata": {},
     "output_type": "display_data"
    }
   ],
   "source": [
    "display(ui_em,out_em)"
   ]
  },
  {
   "cell_type": "markdown",
   "metadata": {},
   "source": [
    "### Analisis"
   ]
  },
  {
   "cell_type": "markdown",
   "metadata": {},
   "source": [
    "Karena model memiliki persamaan yang cukup kompleks sehingga tidak dapat diambil secara intuitive kesimpulan parameter terhadap output sistem, akan dilakukan percobaan menggunakan slider untuk mengubah parameter dan mengamati interaksi perubahan antara parameter. Akan dilakukan juga perubahan bentuk input dan analisa efek penggunaan PWM sebagai modulasi sinyal step dengan besar maksimum 5V terhadap output.\n",
    "#### 1. Peningkatan $K_a$\n",
    "Peningkatan $K_a$ menyebabkan peningkatan osilasi ($\\omega_d$) dan meningkatkan gain pada output $\\omega$ dan $\\alpha$ serta meningkatkan gradien dari output $\\theta$. Namun, gain Torque tidak terpengaruh.\n",
    "#### 2. Peningkatan $K_{md}$\n",
    "Peningkatan $K_{md}$ membuat amplitudo $V_{in}$ meningkat sehingga amplitudo output bertambah.\n",
    "#### 3. Peningkatan $L$\n",
    "Peningkatan $L$ menyebabkan peningkatan kecepatan sudut $\\omega$ dan $T$ menjadi lebih lambat serta penurunan $\\alpha$ yang semakin lambat sehingga menyebabkan peningkatan $\\theta$ semakin lambat.\n",
    "#### 4. Peningkatan $R$\n",
    "Peningkatan $R$ menyebabkan osilasi output ($\\omega_d$) $\\omega$, $\\alpha$, dan Torque semakin kecil dan gain yang semakin kecil sehingga mengurangi gradien dari output $\\theta$.\n",
    "#### 5. Peningkatan $J$\n",
    "Peningkatan $J$ meningkatkan gain Torque dan menurunkan $\\theta$, $\\omega$, dan $\\alpha$. \n",
    "#### 6. Peningkatan $K_f$\n",
    "Peningkatan $K_f$ meningkatkan gain Torque dan menurunkan $\\theta$, $\\omega$, dan $\\alpha$.\n",
    "#### 7. Peningkatan $K_{emf}$\n",
    "Peningkatan $K_{emf}$ menurunkan gain Torque, $\\theta$, $\\omega$, dan $\\alpha$.\n",
    "#### 8. Interaksi antar parameter\n",
    "Perbandingan pengurangan $R$ dibanding peningkatan $K_a$ kira kira 3 kali lipat. Peningkatan pada $J$ dan $K_f$ terbatas pada peningkatan $K_a$. Secara fisis, peningkatan $K_a$ dan $K_{emf}$ terjadi secara bersamaan dan hampir sebanding (hanya dibedakan pada voltage drop pada berbagai komponen), diikuti oleh $L$ sehingga untuk $K_a$ dan $K_{emf}$ besar, waktu mencapai steady state juga semakin lama. Hal yang menarik adalah $K_a$ dan $K_{emf}$ membuat sistem memiliki gain (transfer energi) yang kecil jika hanya ditinjau dari peningkatan nilai $K_a$ dan $K_{emf}$, namun ketika diikuti peningkatan $V_{in}$ sistem memiliki transfer energi yang lebih besar daripada sebelumnya pada keadaan steady state. Jadi dapat disimpulkan bahwa $K_a$ dan $K_{emf}$ harus memiliki nilai yang cukup besar agar konfigurasi sesuai dengan input $V_{in}$ dan menghasilkan transfer energi yang efisien. Input $V_{in}$ juga harus sesuai dengan sistem $K_a$ dan $K_{emf}$ yang ada sehingga dapat memutar motor (ini mengapa terdapat voltage minimum dan voltage yang disarankan untuk menjalankan sebuah motor).\n",
    "#### 9. Pengaruh Input Step\n",
    "Penggunaan input step memiliki osilasi ($\\omega_d$) semakin sedikit.\n",
    "#### 10. Pengaruh Input Impuls\n",
    "Penggunaan input impulse membuat $\\theta$ mencapai steady state karena motor berhenti berputar sehingga $\\omega$,$\\alpha$, dan Torque memiliki nilai steady state 0.\n",
    "#### 11. Pengaruh Input PWM\n",
    "Penggunaan input PWM dengan duty cycle tertentu membuat osilasi yang semakin banyak, namun dengan peningkatan duty cycle, osilasi semakin sedikit (semakin mendekati sinyal step). Hal yang menarik disini adalah sinyal PWM dapat digunakan untuk mengontrol, tetapi ketika tidak digunakan pengontrol, sinyal PWM malah memberikan osilasi pada sistem."
   ]
  }
 ],
 "metadata": {
  "kernelspec": {
   "display_name": "Python 3",
   "language": "python",
   "name": "python3"
  },
  "language_info": {
   "codemirror_mode": {
    "name": "ipython",
    "version": 3
   },
   "file_extension": ".py",
   "mimetype": "text/x-python",
   "name": "python",
   "nbconvert_exporter": "python",
   "pygments_lexer": "ipython3",
   "version": "3.7.3"
  }
 },
 "nbformat": 4,
 "nbformat_minor": 2
}
